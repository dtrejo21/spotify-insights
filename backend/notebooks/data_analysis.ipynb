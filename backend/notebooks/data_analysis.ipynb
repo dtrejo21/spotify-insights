{
 "cells": [
  {
   "cell_type": "code",
   "execution_count": 123,
   "metadata": {},
   "outputs": [],
   "source": [
    "from dotenv import load_dotenv\n",
    "import os\n",
    "import pandas as pd\n",
    "import spotipy\n",
    "from spotipy.oauth2 import SpotifyOAuth\n",
    "import sys"
   ]
  },
  {
   "cell_type": "code",
   "execution_count": 128,
   "metadata": {},
   "outputs": [],
   "source": [
    "# api connection\n",
    "load_dotenv()\n",
    "SPOTIFY_CLIENT_ID = os.getenv(\"SPOTIFY_CLIENT_ID\")\n",
    "SPOTIFY_CLIENT_SECRET = os.getenv(\"SPOTIFY_CLIENT_SECRET\")\n",
    "URI = os.getenv(\"URI\")\n",
    "\n",
    "sp_oauth = SpotifyOAuth(client_id=SPOTIFY_CLIENT_ID,\n",
    "                                               client_secret=SPOTIFY_CLIENT_SECRET,\n",
    "                                               redirect_uri=URI,\n",
    "                                               scope=\"user-library-read user-top-read user-read-recently-played\")\n",
    "\n",
    "token_info = sp_oauth.get_cached_token()\n",
    "#sp = spotipy.Spotify(auth=token_info[\"access_token\"])"
   ]
  },
  {
   "cell_type": "markdown",
   "metadata": {},
   "source": []
  },
  {
   "cell_type": "code",
   "execution_count": 62,
   "metadata": {},
   "outputs": [
    {
     "name": "stdout",
     "output_type": "stream",
     "text": [
      "Index(['duration_ms', 'explicit', 'name', 'popularity'], dtype='object')\n",
      "   duration_ms  explicit         name  popularity  duration_sec  duration_min  \\\n",
      "0       223192      True         Juno          89        43.192           3.0   \n",
      "1       267866      True      Goddess          69        27.866           4.0   \n",
      "2       225360     False     Lovesick          71        45.360           3.0   \n",
      "3       169917     False         APT.          92        49.917           2.0   \n",
      "4       225500     False  Without You          53        45.500           3.0   \n",
      "\n",
      "  duration_mm_ss  \n",
      "0           3:43  \n",
      "1           4:27  \n",
      "2           3:45  \n",
      "3           2:49  \n",
      "4           3:45  \n"
     ]
    }
   ],
   "source": [
    "top_tracks = sp.current_user_top_tracks()\n",
    "#print(top_tracks[\"items\"])\n",
    "#del top_tracks[\"items\"][\"albums\"][\"available_markets\"]\n",
    "#print(top_tracks[\"items\"][-1])\n",
    "df_top = pd.DataFrame(top_tracks[\"items\"])\n",
    "to_drop = [\"available_markets\", \"available_markets\", \"href\", \"external_urls\", \"disc_number\", \"track_number\", \"external_ids\", \"preview_url\", \"uri\", \"is_local\", 'id', 'is_playable', 'type', \"album\", 'artists']\n",
    "df_top = df_top.drop(columns=to_drop)\n",
    "print(df_top.columns)\n",
    "\n",
    "# Convert milliseconds to seconds\n",
    "df_top['duration_sec'] = df_top['duration_ms'] / 1000\n",
    "\n",
    "# Calculate minutes and seconds\n",
    "df_top['duration_min'] = df_top['duration_sec'] // 60\n",
    "df_top['duration_sec'] = df_top['duration_sec'] % 60\n",
    "\n",
    "# Format as 'mm:ss'\n",
    "df_top['duration_mm_ss'] = df_top['duration_min'].astype(int).astype(str) + ':' + df_top['duration_sec'].astype(int).astype(str).str.zfill(2)\n",
    "\n",
    "print(df_top.head(5))"
   ]
  },
  {
   "cell_type": "code",
   "execution_count": 109,
   "metadata": {},
   "outputs": [
    {
     "name": "stdout",
     "output_type": "stream",
     "text": [
      "Total tracks listened:  20\n",
      "total min:  9\n",
      "total_sec:  27\n",
      "total hrs:  1\n",
      "Total time listend to:  1:09.27\n"
     ]
    }
   ],
   "source": [
    "print(\"Total tracks listened: \", len(df_top[\"name\"]))\n",
    "\n",
    "total_ms = df_top[\"duration_ms\"].sum()\n",
    "total_sec = total_ms / 1000\n",
    "total_min = total_sec // 60\n",
    "total_sec = (total_sec % 60).astype(int)\n",
    "\n",
    "total_hr = (total_min // 60).astype(int)\n",
    "total_min = (total_min % 60).astype(int)\n",
    "\n",
    "print(\"total min: \", total_min)\n",
    "print(\"total_sec: \", total_sec)\n",
    "print(\"total hrs: \", total_hr)\n",
    "\n",
    "print(\"Total time listend to: \", str(total_hr) + \":0\" + str(total_min) +  \".\" + str(total_sec))"
   ]
  }
 ],
 "metadata": {
  "kernelspec": {
   "display_name": "spotify-insights",
   "language": "python",
   "name": "python3"
  },
  "language_info": {
   "codemirror_mode": {
    "name": "ipython",
    "version": 3
   },
   "file_extension": ".py",
   "mimetype": "text/x-python",
   "name": "python",
   "nbconvert_exporter": "python",
   "pygments_lexer": "ipython3",
   "version": "3.10.16"
  }
 },
 "nbformat": 4,
 "nbformat_minor": 2
}
